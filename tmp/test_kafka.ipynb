{
 "cells": [
  {
   "cell_type": "code",
   "execution_count": 4,
   "id": "77d5e8cf",
   "metadata": {},
   "outputs": [
    {
     "name": "stdout",
     "output_type": "stream",
     "text": [
      "{\"event_time\": \"2025-04-26T12:12:00+00:00\", \"sensor_id\": \"704f6713-dfd9-40bc-b889-d247fc15203d\", \"pm10\": 50.97, \"co\": 4.99, \"co2\": 469.18, \"no2\": 46.57, \"o3\": 155.45, \"so2\": 7.92}\n"
     ]
    }
   ],
   "source": [
    "from confluent_kafka import Consumer, KafkaException\n",
    "\n",
    "c = Consumer({\n",
    "    'bootstrap.servers': '10.10.76.231:7676',\n",
    "    'group.id': 'my-group',\n",
    "    'auto.offset.reset': 'earliest'\n",
    "})\n",
    "\n",
    "c.subscribe(['sensor_metrics_air'])\n",
    "\n",
    "try:\n",
    "    msg = c.poll(10.0)\n",
    "    if msg is None:\n",
    "        print('No message')\n",
    "    elif msg.error():\n",
    "        raise KafkaException(msg.error())\n",
    "    else:\n",
    "        print(msg.value().decode('utf-8'))\n",
    "finally:\n",
    "    c.close()"
   ]
  }
 ],
 "metadata": {
  "kernelspec": {
   "display_name": "env",
   "language": "python",
   "name": "python3"
  },
  "language_info": {
   "codemirror_mode": {
    "name": "ipython",
    "version": 3
   },
   "file_extension": ".py",
   "mimetype": "text/x-python",
   "name": "python",
   "nbconvert_exporter": "python",
   "pygments_lexer": "ipython3",
   "version": "3.12.9"
  }
 },
 "nbformat": 4,
 "nbformat_minor": 5
}
